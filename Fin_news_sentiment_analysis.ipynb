{
 "cells": [
  {
   "cell_type": "code",
   "execution_count": 1,
   "id": "5350c468-bafb-494f-934c-903c3425f4eb",
   "metadata": {},
   "outputs": [],
   "source": [
    "import tensorflow as tf"
   ]
  },
  {
   "cell_type": "code",
   "execution_count": 3,
   "id": "b98d9479-ea2c-42a1-b8a1-32b4b0790aa2",
   "metadata": {},
   "outputs": [
    {
     "name": "stderr",
     "output_type": "stream",
     "text": [
      "D:\\Anaconda\\envs\\tf_env\\lib\\site-packages\\tqdm\\auto.py:21: TqdmWarning: IProgress not found. Please update jupyter and ipywidgets. See https://ipywidgets.readthedocs.io/en/stable/user_install.html\n",
      "  from .autonotebook import tqdm as notebook_tqdm\n"
     ]
    }
   ],
   "source": [
    "from datasets import load_dataset\n",
    "\n",
    "dataset = load_dataset('financial_phrasebank', 'sentences_allagree')"
   ]
  },
  {
   "cell_type": "code",
   "execution_count": 4,
   "id": "4ccb882d-bb7b-4f08-9101-8f7867ac7b0a",
   "metadata": {},
   "outputs": [],
   "source": [
    "test_dataset = dataset[\"train\"]"
   ]
  },
  {
   "cell_type": "code",
   "execution_count": 5,
   "id": "4c3562df-a2f4-43c9-8813-476e2122fe3f",
   "metadata": {},
   "outputs": [
    {
     "data": {
      "text/plain": [
       "{'sentence': 'According to Gran , the company has no plans to move all production to Russia , although that is where the company is growing .',\n",
       " 'label': 1}"
      ]
     },
     "execution_count": 5,
     "metadata": {},
     "output_type": "execute_result"
    }
   ],
   "source": [
    "test_dataset[0]"
   ]
  },
  {
   "cell_type": "code",
   "execution_count": 6,
   "id": "a3556ac5-9f39-4904-b040-c8c0ef006c0c",
   "metadata": {},
   "outputs": [],
   "source": [
    "train_dataset = load_dataset('financial_phrasebank', 'sentences_50agree')"
   ]
  },
  {
   "cell_type": "code",
   "execution_count": 7,
   "id": "3b0ae070-4ed1-4edc-99ea-70e410178ef5",
   "metadata": {},
   "outputs": [],
   "source": [
    "train_dataset = train_dataset[\"train\"]"
   ]
  },
  {
   "cell_type": "code",
   "execution_count": 8,
   "id": "50156798-a70d-4b66-917d-efdf6a95702f",
   "metadata": {},
   "outputs": [
    {
     "data": {
      "text/plain": [
       "{'sentence': \"TeliaSonera TLSN said the offer is in line with its strategy to increase its ownership in core business holdings and would strengthen Eesti Telekom 's offering to its customers .\",\n",
       " 'label': 2}"
      ]
     },
     "execution_count": 8,
     "metadata": {},
     "output_type": "execute_result"
    }
   ],
   "source": [
    "train_dataset[10]"
   ]
  },
  {
   "cell_type": "code",
   "execution_count": 2,
   "id": "2efb5caf-e460-4347-946f-1f30297e076c",
   "metadata": {},
   "outputs": [],
   "source": [
    "label_desc = {\n",
    "    0:'negative',\n",
    "    1:'neutral',\n",
    "    2:'positive'\n",
    "}"
   ]
  },
  {
   "cell_type": "code",
   "execution_count": 3,
   "id": "13e8d363-4d1a-49cc-87c4-e745d5dccdf2",
   "metadata": {},
   "outputs": [
    {
     "name": "stderr",
     "output_type": "stream",
     "text": [
      "D:\\Anaconda\\envs\\tf_env\\lib\\site-packages\\tqdm\\auto.py:21: TqdmWarning: IProgress not found. Please update jupyter and ipywidgets. See https://ipywidgets.readthedocs.io/en/stable/user_install.html\n",
      "  from .autonotebook import tqdm as notebook_tqdm\n"
     ]
    }
   ],
   "source": [
    "from tensorflow.keras.models import Model\n",
    "from tensorflow.keras.layers import Input, Dense\n",
    "from tensorflow.keras.optimizers import Adam\n",
    "from transformers import TFBertModel"
   ]
  },
  {
   "cell_type": "code",
   "execution_count": 4,
   "id": "929b4549-8b83-46ac-bcb4-a52cbab0f79a",
   "metadata": {},
   "outputs": [],
   "source": [
    "from transformers import BertTokenizer"
   ]
  },
  {
   "cell_type": "code",
   "execution_count": 5,
   "id": "2b112655-6eb7-49e3-a4a8-9d5aecf3e8c3",
   "metadata": {},
   "outputs": [],
   "source": [
    "from tensorflow.keras.losses import SparseCategoricalCrossentropy"
   ]
  },
  {
   "cell_type": "code",
   "execution_count": 6,
   "id": "68fdbd18-56b5-4b82-a5d8-089913e37912",
   "metadata": {},
   "outputs": [],
   "source": [
    "tokenizer = BertTokenizer.from_pretrained('bert-base-uncased')"
   ]
  },
  {
   "cell_type": "code",
   "execution_count": 11,
   "id": "eb5c22e3-f78e-496f-b4af-37c0f337e776",
   "metadata": {},
   "outputs": [
    {
     "name": "stderr",
     "output_type": "stream",
     "text": [
      "Some weights of the PyTorch model were not used when initializing the TF 2.0 model TFBertModel: ['cls.seq_relationship.weight', 'cls.predictions.transform.LayerNorm.bias', 'cls.predictions.transform.LayerNorm.weight', 'cls.predictions.transform.dense.bias', 'cls.predictions.bias', 'cls.predictions.transform.dense.weight', 'cls.seq_relationship.bias']\n",
      "- This IS expected if you are initializing TFBertModel from a PyTorch model trained on another task or with another architecture (e.g. initializing a TFBertForSequenceClassification model from a BertForPreTraining model).\n",
      "- This IS NOT expected if you are initializing TFBertModel from a PyTorch model that you expect to be exactly identical (e.g. initializing a TFBertForSequenceClassification model from a BertForSequenceClassification model).\n",
      "All the weights of TFBertModel were initialized from the PyTorch model.\n",
      "If your task is similar to the task the model of the checkpoint was trained on, you can already use TFBertModel for predictions without further training.\n"
     ]
    }
   ],
   "source": [
    "bert_model = TFBertModel.from_pretrained('bert-base-uncased')"
   ]
  },
  {
   "cell_type": "code",
   "execution_count": 12,
   "id": "e2ae3043-e5be-4508-8a90-2cb59d40a42c",
   "metadata": {},
   "outputs": [],
   "source": [
    "bert_model.trainable = False"
   ]
  },
  {
   "cell_type": "markdown",
   "id": "467d3a3c-328e-4277-a138-b227b49b300c",
   "metadata": {},
   "source": [
    "## Model Arch for fine tuning"
   ]
  },
  {
   "cell_type": "code",
   "execution_count": 13,
   "id": "62ff9160-f1ad-4d87-b248-507d13e5bdb3",
   "metadata": {},
   "outputs": [],
   "source": [
    "input_ids = Input(shape = (400, ), dtype = tf.int32, name = 'input_ids')\n",
    "attention_mask = Input(shape = (400,), dtype = tf.int32, name = 'attention_mask')"
   ]
  },
  {
   "cell_type": "markdown",
   "id": "f2c02a8c-9fa7-4684-968f-195ccd8eee62",
   "metadata": {},
   "source": [
    "### Embedding layer\n",
    "It will take out input and make the embeddings for us to feed it to BERT."
   ]
  },
  {
   "cell_type": "code",
   "execution_count": 16,
   "id": "f282cd3a-7d02-4242-989f-24d74018ee2e",
   "metadata": {},
   "outputs": [],
   "source": [
    "embeddings = bert_model(input_ids, attention_mask = attention_mask)[0]"
   ]
  },
  {
   "cell_type": "code",
   "execution_count": 17,
   "id": "907e880f-71e3-4054-a49c-f0cdb82ba990",
   "metadata": {},
   "outputs": [],
   "source": [
    "x = tf.keras.layers.GlobalAveragePooling1D()(embeddings)\n",
    "x = Dense(64, activation='relu')(x)\n",
    "output = Dense(3, activation='softmax')(x)"
   ]
  },
  {
   "cell_type": "code",
   "execution_count": 18,
   "id": "cc2c3483-0ff2-44f8-9856-15fc6b7c9569",
   "metadata": {},
   "outputs": [],
   "source": [
    "model = Model(inputs = [input_ids, attention_mask], outputs = output)"
   ]
  },
  {
   "cell_type": "code",
   "execution_count": 19,
   "id": "4a3f3f3d-ba79-42bc-be58-f5b296572db0",
   "metadata": {},
   "outputs": [
    {
     "name": "stdout",
     "output_type": "stream",
     "text": [
      "Model: \"model\"\n",
      "__________________________________________________________________________________________________\n",
      " Layer (type)                   Output Shape         Param #     Connected to                     \n",
      "==================================================================================================\n",
      " input_ids (InputLayer)         [(None, 400)]        0           []                               \n",
      "                                                                                                  \n",
      " attention_mask (InputLayer)    [(None, 400)]        0           []                               \n",
      "                                                                                                  \n",
      " tf_bert_model (TFBertModel)    TFBaseModelOutputWi  109482240   ['input_ids[0][0]',              \n",
      "                                thPoolingAndCrossAt               'attention_mask[0][0]']         \n",
      "                                tentions(last_hidde                                               \n",
      "                                n_state=(None, 400,                                               \n",
      "                                 768),                                                            \n",
      "                                 pooler_output=(Non                                               \n",
      "                                e, 768),                                                          \n",
      "                                 past_key_values=No                                               \n",
      "                                ne, hidden_states=N                                               \n",
      "                                one, attentions=Non                                               \n",
      "                                e, cross_attentions                                               \n",
      "                                =None)                                                            \n",
      "                                                                                                  \n",
      " global_average_pooling1d (Glob  (None, 768)         0           ['tf_bert_model[0][0]']          \n",
      " alAveragePooling1D)                                                                              \n",
      "                                                                                                  \n",
      " dense (Dense)                  (None, 64)           49216       ['global_average_pooling1d[0][0]'\n",
      "                                                                 ]                                \n",
      "                                                                                                  \n",
      " dense_1 (Dense)                (None, 3)            195         ['dense[0][0]']                  \n",
      "                                                                                                  \n",
      "==================================================================================================\n",
      "Total params: 109,531,651\n",
      "Trainable params: 49,411\n",
      "Non-trainable params: 109,482,240\n",
      "__________________________________________________________________________________________________\n"
     ]
    }
   ],
   "source": [
    "model.summary()"
   ]
  },
  {
   "cell_type": "code",
   "execution_count": 20,
   "id": "72d0f5ed-e288-43db-9d81-d73575a718cd",
   "metadata": {},
   "outputs": [],
   "source": [
    "model.compile(optimizer='adam', loss= SparseCategoricalCrossentropy(), metrics=['accuracy'])"
   ]
  },
  {
   "cell_type": "markdown",
   "id": "ddee1589-821f-4083-802b-9242c9e6c86f",
   "metadata": {},
   "source": [
    "## Here we are going to split out test_dataset into validation and test dataset."
   ]
  },
  {
   "cell_type": "code",
   "execution_count": 24,
   "id": "1820be81-1c58-4b68-ad58-95724f7d755b",
   "metadata": {},
   "outputs": [],
   "source": [
    "## Converting train_dataset into tensorflow dataset\n",
    "train_encoded_sentences = tokenizer(train_dataset[\"sentence\"], truncation = True, max_length = 400, padding = \"max_length\", return_tensors='tf')\n",
    "training_dataset = tf.data.Dataset.from_tensor_slices((\n",
    "    dict(\n",
    "        input_ids = train_encoded_sentences['input_ids'],\n",
    "        attention_mask = train_encoded_sentences['attention_mask']\n",
    "    ),\n",
    "    train_dataset[\"label\"]\n",
    "))"
   ]
  },
  {
   "cell_type": "code",
   "execution_count": 25,
   "id": "0807bf7b-a2db-46b7-8d18-0bc9ab9b29c6",
   "metadata": {},
   "outputs": [],
   "source": [
    "## Converting test_dataset into tensorflow dataset\n",
    "test_encoded_sentences = tokenizer(test_dataset[\"sentence\"], truncation = True, max_length = 400, padding = \"max_length\", return_tensors='tf')\n",
    "test_dataset = tf.data.Dataset.from_tensor_slices((\n",
    "    dict(\n",
    "        input_ids = test_encoded_sentences['input_ids'],\n",
    "        attention_mask = test_encoded_sentences['attention_mask']\n",
    "    ),\n",
    "    test_dataset[\"label\"]\n",
    "))"
   ]
  },
  {
   "cell_type": "code",
   "execution_count": 26,
   "id": "7a46bc5b-0b9e-4ad2-b821-c4c17e08092c",
   "metadata": {},
   "outputs": [],
   "source": [
    "length_of_test_dataset = len(test_dataset)\n",
    "\n",
    "valid_size = int(0.45 * length_of_test_dataset)\n",
    "\n",
    "test_dataset = test_dataset.shuffle(buffer_size = length_of_test_dataset)\n",
    "validation_dataset = test_dataset.take(valid_size)\n",
    "\n",
    "test_dataset = test_dataset.skip(valid_size)\n"
   ]
  },
  {
   "cell_type": "code",
   "execution_count": 27,
   "id": "6b7abc3e-1dee-45ab-a201-742b4b8d70ed",
   "metadata": {},
   "outputs": [
    {
     "name": "stdout",
     "output_type": "stream",
     "text": [
      "4846 1018 1246\n"
     ]
    }
   ],
   "source": [
    "print(len(training_dataset),len(validation_dataset),len(test_dataset))\n"
   ]
  },
  {
   "cell_type": "code",
   "execution_count": null,
   "id": "fea67534-cdfa-46d8-ad0e-9e3945cd2a79",
   "metadata": {},
   "outputs": [],
   "source": []
  },
  {
   "cell_type": "code",
   "execution_count": 28,
   "id": "eecc9339-0040-485e-a749-a10d48cb5cbe",
   "metadata": {},
   "outputs": [],
   "source": [
    "from tensorflow.keras.callbacks import EarlyStopping, ModelCheckpoint\n",
    "early_stopping = EarlyStopping(\n",
    "    monitor='val_loss',\n",
    "    patience=5, \n",
    "    verbose=1, \n",
    "    restore_best_weights=True \n",
    ")\n",
    "\n",
    "model_checkpoint = ModelCheckpoint(\n",
    "    filepath='best_model.h5', \n",
    "    monitor='val_loss', \n",
    "    save_best_only=True,  \n",
    "    verbose=1\n",
    ")\n"
   ]
  },
  {
   "cell_type": "code",
   "execution_count": 51,
   "id": "c5e1e462-48ba-4236-b5f7-9d556c0e3cb2",
   "metadata": {},
   "outputs": [
    {
     "name": "stdout",
     "output_type": "stream",
     "text": [
      "Epoch 1/5\n",
      "152/152 [==============================] - ETA: 0s - loss: 0.7313 - accuracy: 0.7274\n",
      "Epoch 1: val_loss did not improve from 0.00000\n",
      "152/152 [==============================] - 302s 2s/step - loss: 0.7313 - accuracy: 0.7274 - val_loss: 1.4574 - val_accuracy: 0.2485\n",
      "Epoch 2/5\n",
      "152/152 [==============================] - ETA: 0s - loss: 0.7520 - accuracy: 0.6868\n",
      "Epoch 2: val_loss did not improve from 0.00000\n",
      "152/152 [==============================] - 300s 2s/step - loss: 0.7520 - accuracy: 0.6868 - val_loss: 1.1157 - val_accuracy: 0.4086\n",
      "Epoch 3/5\n",
      "152/152 [==============================] - ETA: 0s - loss: 0.6645 - accuracy: 0.7028\n",
      "Epoch 3: val_loss did not improve from 0.00000\n",
      "152/152 [==============================] - 302s 2s/step - loss: 0.6645 - accuracy: 0.7028 - val_loss: 1.1831 - val_accuracy: 0.4882\n",
      "Epoch 4/5\n",
      "152/152 [==============================] - ETA: 0s - loss: 0.6389 - accuracy: 0.7220\n",
      "Epoch 4: val_loss did not improve from 0.00000\n",
      "152/152 [==============================] - 303s 2s/step - loss: 0.6389 - accuracy: 0.7220 - val_loss: 0.9865 - val_accuracy: 0.5098\n",
      "Epoch 5/5\n",
      "152/152 [==============================] - ETA: 0s - loss: 0.6059 - accuracy: 0.7214\n",
      "Epoch 5: val_loss did not improve from 0.00000\n",
      "152/152 [==============================] - 304s 2s/step - loss: 0.6059 - accuracy: 0.7214 - val_loss: 1.1911 - val_accuracy: 0.4941\n"
     ]
    }
   ],
   "source": [
    "history = model.fit(\n",
    "    training_dataset.batch(32),  \n",
    "    epochs=5,  \n",
    "    validation_data=validation_dataset.batch(32),\n",
    "    callbacks=[early_stopping, model_checkpoint]\n",
    ")"
   ]
  },
  {
   "cell_type": "code",
   "execution_count": 22,
   "id": "0b9511ad-a04e-4aad-a74c-0c63fc8ee89c",
   "metadata": {},
   "outputs": [],
   "source": [
    "encoding = tokenizer.encode_plus(\"According to Gran , the company has no plans to move all production to Russia , although that is where the company is growing .\", max_length=400, truncation=True, padding='max_length', return_tensors='tf')\n",
    "# predictions = model.predict({'input_ids': encoding['input_ids'], 'attention_mask': encoding['attention_mask']})"
   ]
  },
  {
   "cell_type": "code",
   "execution_count": 62,
   "id": "79819266-d39d-4b02-b23b-73347fd1360f",
   "metadata": {},
   "outputs": [
    {
     "data": {
      "text/plain": [
       "0.71160805"
      ]
     },
     "execution_count": 62,
     "metadata": {},
     "output_type": "execute_result"
    }
   ],
   "source": [
    "max(predictions[0])"
   ]
  },
  {
   "cell_type": "code",
   "execution_count": 63,
   "id": "0f6424f8-e098-429e-877f-b18fbcdc76a3",
   "metadata": {},
   "outputs": [
    {
     "name": "stderr",
     "output_type": "stream",
     "text": [
      "WARNING:absl:Found untraced functions such as serving, embeddings_layer_call_fn, embeddings_layer_call_and_return_conditional_losses, encoder_layer_call_fn, encoder_layer_call_and_return_conditional_losses while saving (showing 5 of 421). These functions will not be directly callable after loading.\n"
     ]
    },
    {
     "name": "stdout",
     "output_type": "stream",
     "text": [
      "INFO:tensorflow:Assets written to: fine_tuned_model\\assets\n"
     ]
    },
    {
     "name": "stderr",
     "output_type": "stream",
     "text": [
      "INFO:tensorflow:Assets written to: fine_tuned_model\\assets\n"
     ]
    }
   ],
   "source": [
    "model.save('fine_tuned_model')"
   ]
  },
  {
   "cell_type": "code",
   "execution_count": 21,
   "id": "8d3681d9-6931-4fae-baf0-8e2ece332a6a",
   "metadata": {},
   "outputs": [],
   "source": [
    "loaded_model = model.load_weights('fine_tuned_model')"
   ]
  },
  {
   "cell_type": "code",
   "execution_count": 24,
   "id": "813e8ad7-9899-4279-b2d8-e505e3b78dba",
   "metadata": {},
   "outputs": [],
   "source": [
    "model2 = tf.saved_model.load('fine_tuned_model')"
   ]
  },
  {
   "cell_type": "code",
   "execution_count": 26,
   "id": "f3ca3e3e-f548-4312-b27e-7c4f744f7ed5",
   "metadata": {},
   "outputs": [],
   "source": [
    "prediction_func = model2.signatures['serving_default']"
   ]
  },
  {
   "cell_type": "code",
   "execution_count": 28,
   "id": "abb3084c-d84f-4dfc-abdf-09d5d6d127a5",
   "metadata": {},
   "outputs": [],
   "source": [
    "res = prediction_func(attention_mask = encoding[\"attention_mask\"], input_ids = encoding[\"input_ids\"])"
   ]
  },
  {
   "cell_type": "code",
   "execution_count": 31,
   "id": "103b7e2f-ec92-4017-a097-4f9a14003c79",
   "metadata": {},
   "outputs": [
    {
     "data": {
      "text/plain": [
       "{'dense_9': <tf.Tensor: shape=(1, 3), dtype=float32, numpy=array([[0.71160805, 0.2508122 , 0.03757977]], dtype=float32)>}"
      ]
     },
     "execution_count": 31,
     "metadata": {},
     "output_type": "execute_result"
    }
   ],
   "source": [
    "res"
   ]
  },
  {
   "cell_type": "code",
   "execution_count": 40,
   "id": "81e82be3-712c-4558-8179-b84dc6415c27",
   "metadata": {},
   "outputs": [],
   "source": [
    "res_arr = res[\"dense_9\"].numpy()"
   ]
  },
  {
   "cell_type": "code",
   "execution_count": 43,
   "id": "fd2709ac-93d7-4aae-8fdd-6b12f2f5fba8",
   "metadata": {},
   "outputs": [],
   "source": [
    "import numpy as np"
   ]
  },
  {
   "cell_type": "code",
   "execution_count": 44,
   "id": "a58fbd75-1d3c-4e68-9ba6-2993bcd8a99c",
   "metadata": {},
   "outputs": [
    {
     "data": {
      "text/plain": [
       "0"
      ]
     },
     "execution_count": 44,
     "metadata": {},
     "output_type": "execute_result"
    }
   ],
   "source": [
    "np.argmax(res_arr)"
   ]
  },
  {
   "cell_type": "code",
   "execution_count": 53,
   "id": "fd6f6f5b-5e21-4502-bd15-ef78686867ad",
   "metadata": {},
   "outputs": [
    {
     "name": "stdout",
     "output_type": "stream",
     "text": [
      "negative [[0.7620019  0.13888818 0.09910992]]\n"
     ]
    }
   ],
   "source": [
    "encoding = tokenizer.encode_plus(\"Viking Line 's cargo revenue increased by 5.4 % to EUR 21.46 mn , and cargo volume increased by 2.4 % to 70,116 cargo units .\", max_length=400, truncation=True, padding='max_length', return_tensors='tf')\n",
    "    \n",
    "predictions = prediction_func(input_ids =  encoding['input_ids'], attention_mask = encoding['attention_mask'])[\"dense_9\"].numpy()\n",
    "    \n",
    "prediction = np.argmax(predictions)\n",
    "\n",
    "label = label_desc[prediction]\n",
    "\n",
    "print(label, predictions)"
   ]
  },
  {
   "cell_type": "code",
   "execution_count": null,
   "id": "b6a0900f-47eb-40fe-bddd-1832b20caf85",
   "metadata": {},
   "outputs": [],
   "source": []
  }
 ],
 "metadata": {
  "kernelspec": {
   "display_name": "Python 3 (ipykernel)",
   "language": "python",
   "name": "python3"
  },
  "language_info": {
   "codemirror_mode": {
    "name": "ipython",
    "version": 3
   },
   "file_extension": ".py",
   "mimetype": "text/x-python",
   "name": "python",
   "nbconvert_exporter": "python",
   "pygments_lexer": "ipython3",
   "version": "3.9.18"
  }
 },
 "nbformat": 4,
 "nbformat_minor": 5
}
